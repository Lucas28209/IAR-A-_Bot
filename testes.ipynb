{
 "cells": [
  {
   "cell_type": "code",
   "execution_count": 2,
   "metadata": {},
   "outputs": [
    {
     "name": "stdout",
     "output_type": "stream",
     "text": [
      "pygame 2.1.2 (SDL 2.0.18, Python 3.9.0)\n",
      "Hello from the pygame community. https://www.pygame.org/contribute.html\n"
     ]
    }
   ],
   "source": [
    "import numpy as np\n",
    "import pygame as pg"
   ]
  },
  {
   "cell_type": "code",
   "execution_count": 6,
   "metadata": {},
   "outputs": [],
   "source": [
    "lista = [0,2,4,6]\n",
    "copia = lista[0]\n",
    "lista[0] = 100\n"
   ]
  },
  {
   "cell_type": "code",
   "execution_count": 7,
   "metadata": {},
   "outputs": [
    {
     "data": {
      "text/plain": [
       "0"
      ]
     },
     "execution_count": 7,
     "metadata": {},
     "output_type": "execute_result"
    }
   ],
   "source": [
    "copia"
   ]
  },
  {
   "cell_type": "code",
   "execution_count": 11,
   "metadata": {},
   "outputs": [],
   "source": [
    "dados = list() #lista [[cor,custo,item,fábrica,robo]]\n",
    "ambiente = np.loadtxt(\"ambiente.txt\") #leitura do ambiente\n",
    "j=0\n",
    "for a in ambiente:\n",
    "    for i in range(len(a)):\n",
    "        if i==0: #verde\n",
    "            ambiente[j][i]= 25\n",
    "        elif i==1: #marrom\n",
    "            ambiente[j][i]= 40\n",
    "        elif i==2: #azul\n",
    "            ambiente[j][i]= 2\n",
    "        else: #laranja\n",
    "            ambiente[j][i]= 80\n",
    "    j=j+1           "
   ]
  },
  {
   "cell_type": "code",
   "execution_count": 12,
   "metadata": {},
   "outputs": [
    {
     "data": {
      "text/plain": [
       "array([[25., 40.,  2., ..., 80., 80., 80.],\n",
       "       [25., 40.,  2., ..., 80., 80., 80.],\n",
       "       [25., 40.,  2., ..., 80., 80., 80.],\n",
       "       ...,\n",
       "       [25., 40.,  2., ..., 80., 80., 80.],\n",
       "       [25., 40.,  2., ..., 80., 80., 80.],\n",
       "       [25., 40.,  2., ..., 80., 80., 80.]])"
      ]
     },
     "execution_count": 12,
     "metadata": {},
     "output_type": "execute_result"
    }
   ],
   "source": [
    "ambiente\n",
    "#locais = np.loadtxt(\"localizações.txt\") #leitura das posições das fábricas e robô\n",
    "#locais\n",
    "#itens = [20,10,8,6,4] #itens\n",
    "#a, b = int(locais[0,0]), int(locais[0,1]) #robo"
   ]
  },
  {
   "cell_type": "code",
   "execution_count": 5,
   "metadata": {},
   "outputs": [],
   "source": [
    "\n",
    "import threading\n",
    "import sys\n",
    "import time\n",
    "\n",
    "def run():\n",
    "    pg.init()\n",
    "    width, height = 756, 672\n",
    "    DISPLAY = pg.display.set_mode((width, height), 0, 32)\n",
    "    while(True):\n",
    "        pg.display.update()        \n",
    "        tela = pg.display.set_mode((900, 900))\n",
    "        tela.set_alpha(None)\n",
    "        #print(np.count_nonzero(self.grid != None))\n",
    "        #t = threading.Thread(target=time.sleep(1)) #self.inicio)\n",
    "        #t.daemon=True\n",
    "        #t.start()\n",
    "        \n",
    "\n",
    "        for i in range(len(dados)):\n",
    "            pg.draw.rect(DISPLAY, dados[i][0], (1,2,3,4))\n",
    "\n",
    "        '''\n",
    "        while True:\n",
    "            for e in pg.event.get():\n",
    "                if e.type == pg.QUIT: sys.exit()\n",
    "            vetor = dados #self.matriz()\n",
    "            formigueiro = pg.surfarray.make_surface(vetor)\n",
    "            n_formigueiro = pg.transform.scale(formigueiro, (self.tam, self.tam))\n",
    "            \n",
    "            n_formigueiro = pg.transform.flip(n_formigueiro, True, False)  \n",
    "            n_formigueiro = pg.transform.rotate(n_formigueiro,90)\n",
    "            \n",
    "            tela.blit(n_formigueiro, (0,0))\n",
    "            pg.display.flip()\n",
    "        '''\n",
    "  \n"
   ]
  },
  {
   "cell_type": "code",
   "execution_count": 7,
   "metadata": {},
   "outputs": [
    {
     "ename": "KeyboardInterrupt",
     "evalue": "",
     "output_type": "error",
     "traceback": [
      "\u001b[1;31m---------------------------------------------------------------------------\u001b[0m",
      "\u001b[1;31mKeyboardInterrupt\u001b[0m                         Traceback (most recent call last)",
      "\u001b[1;32mc:\\Users\\Cliente\\Documents\\GitHub\\Lucas\\IAR-A-_Bot\\testes.ipynb Cell 5'\u001b[0m in \u001b[0;36m<cell line: 1>\u001b[1;34m()\u001b[0m\n\u001b[1;32m----> <a href='vscode-notebook-cell:/c%3A/Users/Cliente/Documents/GitHub/Lucas/IAR-A-_Bot/testes.ipynb#ch0000005?line=0'>1</a>\u001b[0m run()\n",
      "\u001b[1;32mc:\\Users\\Cliente\\Documents\\GitHub\\Lucas\\IAR-A-_Bot\\testes.ipynb Cell 4'\u001b[0m in \u001b[0;36mrun\u001b[1;34m()\u001b[0m\n\u001b[0;32m      <a href='vscode-notebook-cell:/c%3A/Users/Cliente/Documents/GitHub/Lucas/IAR-A-_Bot/testes.ipynb#ch0000002?line=7'>8</a>\u001b[0m DISPLAY \u001b[39m=\u001b[39m pg\u001b[39m.\u001b[39mdisplay\u001b[39m.\u001b[39mset_mode((width, height), \u001b[39m0\u001b[39m, \u001b[39m32\u001b[39m)\n\u001b[0;32m      <a href='vscode-notebook-cell:/c%3A/Users/Cliente/Documents/GitHub/Lucas/IAR-A-_Bot/testes.ipynb#ch0000002?line=8'>9</a>\u001b[0m \u001b[39mwhile\u001b[39;00m(\u001b[39mTrue\u001b[39;00m):\n\u001b[1;32m---> <a href='vscode-notebook-cell:/c%3A/Users/Cliente/Documents/GitHub/Lucas/IAR-A-_Bot/testes.ipynb#ch0000002?line=9'>10</a>\u001b[0m     pg\u001b[39m.\u001b[39;49mdisplay\u001b[39m.\u001b[39;49mupdate()        \n\u001b[0;32m     <a href='vscode-notebook-cell:/c%3A/Users/Cliente/Documents/GitHub/Lucas/IAR-A-_Bot/testes.ipynb#ch0000002?line=10'>11</a>\u001b[0m     tela \u001b[39m=\u001b[39m pg\u001b[39m.\u001b[39mdisplay\u001b[39m.\u001b[39mset_mode((\u001b[39m900\u001b[39m, \u001b[39m900\u001b[39m))\n\u001b[0;32m     <a href='vscode-notebook-cell:/c%3A/Users/Cliente/Documents/GitHub/Lucas/IAR-A-_Bot/testes.ipynb#ch0000002?line=11'>12</a>\u001b[0m     tela\u001b[39m.\u001b[39mset_alpha(\u001b[39mNone\u001b[39;00m)\n",
      "\u001b[1;31mKeyboardInterrupt\u001b[0m: "
     ]
    },
    {
     "ename": "",
     "evalue": "",
     "output_type": "error",
     "traceback": [
      "\u001b[1;31mThe Kernel crashed while executing code in the the current cell or a previous cell. Please review the code in the cell(s) to identify a possible cause of the failure. Click <a href='https://aka.ms/vscodeJupyterKernelCrash'>here</a> for more info. View Jupyter <a href='command:jupyter.viewOutput'>log</a> for further details."
     ]
    }
   ],
   "source": [
    "run()"
   ]
  }
 ],
 "metadata": {
  "interpreter": {
   "hash": "f13baad3d70416a794a9ad2b29e7f938b0cb4bb83d2e11d388b95830c728084f"
  },
  "kernelspec": {
   "display_name": "Python 3.9.0 64-bit",
   "language": "python",
   "name": "python3"
  },
  "language_info": {
   "codemirror_mode": {
    "name": "ipython",
    "version": 3
   },
   "file_extension": ".py",
   "mimetype": "text/x-python",
   "name": "python",
   "nbconvert_exporter": "python",
   "pygments_lexer": "ipython3",
   "version": "3.9.0"
  },
  "orig_nbformat": 4
 },
 "nbformat": 4,
 "nbformat_minor": 2
}
